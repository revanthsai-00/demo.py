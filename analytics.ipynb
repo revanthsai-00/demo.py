{
  "nbformat": 4,
  "nbformat_minor": 0,
  "metadata": {
    "colab": {
      "provenance": []
    },
    "kernelspec": {
      "name": "python3",
      "display_name": "Python 3"
    },
    "language_info": {
      "name": "python"
    }
  },
  "cells": [
    {
      "cell_type": "code",
      "execution_count": 2,
      "metadata": {
        "colab": {
          "base_uri": "https://localhost:8080/"
        },
        "id": "RGSteM6HJcCB",
        "outputId": "d7d88ca0-2d69-44bc-acdc-c7700da52fe2"
      },
      "outputs": [
        {
          "output_type": "stream",
          "name": "stdout",
          "text": [
            "Looking in indexes: https://pypi.org/simple, https://us-python.pkg.dev/colab-wheels/public/simple/\n",
            "Collecting pyspark\n",
            "  Downloading pyspark-3.3.2.tar.gz (281.4 MB)\n",
            "\u001b[2K     \u001b[90m━━━━━━━━━━━━━━━━━━━━━━━━━━━━━━━━━━━━━━━\u001b[0m \u001b[32m281.4/281.4 MB\u001b[0m \u001b[31m4.8 MB/s\u001b[0m eta \u001b[36m0:00:00\u001b[0m\n",
            "\u001b[?25h  Preparing metadata (setup.py) ... \u001b[?25l\u001b[?25hdone\n",
            "Collecting py4j==0.10.9.5\n",
            "  Downloading py4j-0.10.9.5-py2.py3-none-any.whl (199 kB)\n",
            "\u001b[2K     \u001b[90m━━━━━━━━━━━━━━━━━━━━━━━━━━━━━━━━━━━━━━\u001b[0m \u001b[32m199.7/199.7 KB\u001b[0m \u001b[31m20.3 MB/s\u001b[0m eta \u001b[36m0:00:00\u001b[0m\n",
            "\u001b[?25hBuilding wheels for collected packages: pyspark\n",
            "  Building wheel for pyspark (setup.py) ... \u001b[?25l\u001b[?25hdone\n",
            "  Created wheel for pyspark: filename=pyspark-3.3.2-py2.py3-none-any.whl size=281824025 sha256=84ae05df3351d691d0789cadbcf9b35b022d229a0f0f41a044735b5e5772ac6d\n",
            "  Stored in directory: /root/.cache/pip/wheels/b1/59/a0/a1a0624b5e865fd389919c1a10f53aec9b12195d6747710baf\n",
            "Successfully built pyspark\n",
            "Installing collected packages: py4j, pyspark\n",
            "Successfully installed py4j-0.10.9.5 pyspark-3.3.2\n"
          ]
        }
      ],
      "source": [
        "pip install pyspark"
      ]
    },
    {
      "cell_type": "code",
      "source": [
        "from pyspark.sql.functions import *\n",
        "movies_cast=movies.select(explode(split(col(\"Genres\"),'\\\\|')).alias(\"Genres\"))\n",
        "movies_cast.select('Genres').distinct().show(100,False)\n"
      ],
      "metadata": {
        "id": "DtAfdypxKRwM",
        "colab": {
          "base_uri": "https://localhost:8080/",
          "height": 200
        },
        "outputId": "63687ce7-4b4b-489d-8dab-730064e986ea"
      },
      "execution_count": 6,
      "outputs": [
        {
          "output_type": "error",
          "ename": "NameError",
          "evalue": "ignored",
          "traceback": [
            "\u001b[0;31m---------------------------------------------------------------------------\u001b[0m",
            "\u001b[0;31mNameError\u001b[0m                                 Traceback (most recent call last)",
            "\u001b[0;32m<ipython-input-6-6d206e5d70c0>\u001b[0m in \u001b[0;36m<module>\u001b[0;34m\u001b[0m\n\u001b[1;32m      1\u001b[0m \u001b[0;32mfrom\u001b[0m \u001b[0mpyspark\u001b[0m\u001b[0;34m.\u001b[0m\u001b[0msql\u001b[0m\u001b[0;34m.\u001b[0m\u001b[0mfunctions\u001b[0m \u001b[0;32mimport\u001b[0m \u001b[0;34m*\u001b[0m\u001b[0;34m\u001b[0m\u001b[0;34m\u001b[0m\u001b[0m\n\u001b[0;32m----> 2\u001b[0;31m \u001b[0mmovies_cast\u001b[0m\u001b[0;34m=\u001b[0m\u001b[0mmovies\u001b[0m\u001b[0;34m.\u001b[0m\u001b[0mselect\u001b[0m\u001b[0;34m(\u001b[0m\u001b[0mexplode\u001b[0m\u001b[0;34m(\u001b[0m\u001b[0msplit\u001b[0m\u001b[0;34m(\u001b[0m\u001b[0mcol\u001b[0m\u001b[0;34m(\u001b[0m\u001b[0;34m\"Genres\"\u001b[0m\u001b[0;34m)\u001b[0m\u001b[0;34m,\u001b[0m\u001b[0;34m'\\\\|'\u001b[0m\u001b[0;34m)\u001b[0m\u001b[0;34m)\u001b[0m\u001b[0;34m.\u001b[0m\u001b[0malias\u001b[0m\u001b[0;34m(\u001b[0m\u001b[0;34m\"Genres\"\u001b[0m\u001b[0;34m)\u001b[0m\u001b[0;34m)\u001b[0m\u001b[0;34m\u001b[0m\u001b[0;34m\u001b[0m\u001b[0m\n\u001b[0m\u001b[1;32m      3\u001b[0m \u001b[0mmovies_cast\u001b[0m\u001b[0;34m.\u001b[0m\u001b[0mselect\u001b[0m\u001b[0;34m(\u001b[0m\u001b[0;34m'Genres'\u001b[0m\u001b[0;34m)\u001b[0m\u001b[0;34m.\u001b[0m\u001b[0mdistinct\u001b[0m\u001b[0;34m(\u001b[0m\u001b[0;34m)\u001b[0m\u001b[0;34m.\u001b[0m\u001b[0mshow\u001b[0m\u001b[0;34m(\u001b[0m\u001b[0;36m100\u001b[0m\u001b[0;34m,\u001b[0m\u001b[0;32mFalse\u001b[0m\u001b[0;34m)\u001b[0m\u001b[0;34m\u001b[0m\u001b[0;34m\u001b[0m\u001b[0m\n",
            "\u001b[0;31mNameError\u001b[0m: name 'movies' is not defined"
          ]
        }
      ]
    },
    {
      "cell_type": "code",
      "source": [
        "from pyspark.sql import SparkSession\n",
        "from pyspark.sql.types import StructType,StructField, StringType, IntegerType\n",
        "spark = SparkSession.builder.master(\"local[1]\").appName(\"SparkByExamples.com\").getOrCreate()"
      ],
      "metadata": {
        "id": "I5SA7O7ZbDrB"
      },
      "execution_count": 23,
      "outputs": []
    },
    {
      "cell_type": "code",
      "source": [
        "df=spark.read.options(delimiter='::').csv(\"/content/sample_data/movies.csv\")\n",
        "movies=df.withColumnRenamed('_c0','movieid').withColumnRenamed('_c1','title').withColumnRenamed('_c2','genre')\n",
        "movies_cast=movies.select(explode(split(col(\"genre\"),'\\\\|')).alias(\"Genres\"))\n",
        "movies_cast.select('Genres').distinct().show(100,False)"
      ],
      "metadata": {
        "id": "A2F-Og_QzU2T",
        "colab": {
          "base_uri": "https://localhost:8080/"
        },
        "outputId": "af4a963e-4b72-49a1-bbc1-662e39f2c325"
      },
      "execution_count": 24,
      "outputs": [
        {
          "output_type": "stream",
          "name": "stdout",
          "text": [
            "+-----------+\n",
            "|Genres     |\n",
            "+-----------+\n",
            "|Crime      |\n",
            "|Romance    |\n",
            "|Thriller   |\n",
            "|Adventure  |\n",
            "|Children's |\n",
            "|Drama      |\n",
            "|War        |\n",
            "|Documentary|\n",
            "|Fantasy    |\n",
            "|Mystery    |\n",
            "|Musical    |\n",
            "|Animation  |\n",
            "|Film-Noir  |\n",
            "|Horror     |\n",
            "|Western    |\n",
            "|Comedy     |\n",
            "|Action     |\n",
            "|Sci-Fi     |\n",
            "+-----------+\n",
            "\n"
          ]
        }
      ]
    },
    {
      "cell_type": "code",
      "source": [
        "\n",
        "from pyspark.sql import SparkSession\n",
        "\n",
        "spark = SparkSession.builder.master(\"spark://localhost:7077\").appName(\"demo\").getOrCreate()"
      ],
      "metadata": {
        "colab": {
          "base_uri": "https://localhost:8080/",
          "height": 640
        },
        "id": "XgOoOj9uXyHR",
        "outputId": "136fb099-26bb-49ad-ceca-33a9181c9a31"
      },
      "execution_count": 17,
      "outputs": [
        {
          "output_type": "error",
          "ename": "Py4JJavaError",
          "evalue": "ignored",
          "traceback": [
            "\u001b[0;31m---------------------------------------------------------------------------\u001b[0m",
            "\u001b[0;31mPy4JJavaError\u001b[0m                             Traceback (most recent call last)",
            "\u001b[0;32m<ipython-input-17-4bb7eccebcb0>\u001b[0m in \u001b[0;36m<module>\u001b[0;34m\u001b[0m\n\u001b[1;32m      1\u001b[0m \u001b[0;32mfrom\u001b[0m \u001b[0mpyspark\u001b[0m\u001b[0;34m.\u001b[0m\u001b[0msql\u001b[0m \u001b[0;32mimport\u001b[0m \u001b[0mSparkSession\u001b[0m\u001b[0;34m\u001b[0m\u001b[0;34m\u001b[0m\u001b[0m\n\u001b[1;32m      2\u001b[0m \u001b[0;34m\u001b[0m\u001b[0m\n\u001b[0;32m----> 3\u001b[0;31m \u001b[0mspark\u001b[0m \u001b[0;34m=\u001b[0m \u001b[0mSparkSession\u001b[0m\u001b[0;34m.\u001b[0m\u001b[0mbuilder\u001b[0m\u001b[0;34m.\u001b[0m\u001b[0mmaster\u001b[0m\u001b[0;34m(\u001b[0m\u001b[0;34m\"spark://localhost:7077\"\u001b[0m\u001b[0;34m)\u001b[0m\u001b[0;34m.\u001b[0m\u001b[0mappName\u001b[0m\u001b[0;34m(\u001b[0m\u001b[0;34m\"demo\"\u001b[0m\u001b[0;34m)\u001b[0m\u001b[0;34m.\u001b[0m\u001b[0mgetOrCreate\u001b[0m\u001b[0;34m(\u001b[0m\u001b[0;34m)\u001b[0m\u001b[0;34m\u001b[0m\u001b[0;34m\u001b[0m\u001b[0m\n\u001b[0m",
            "\u001b[0;32m/usr/local/lib/python3.8/dist-packages/pyspark/sql/session.py\u001b[0m in \u001b[0;36mgetOrCreate\u001b[0;34m(self)\u001b[0m\n\u001b[1;32m    267\u001b[0m                         \u001b[0msparkConf\u001b[0m\u001b[0;34m.\u001b[0m\u001b[0mset\u001b[0m\u001b[0;34m(\u001b[0m\u001b[0mkey\u001b[0m\u001b[0;34m,\u001b[0m \u001b[0mvalue\u001b[0m\u001b[0;34m)\u001b[0m\u001b[0;34m\u001b[0m\u001b[0;34m\u001b[0m\u001b[0m\n\u001b[1;32m    268\u001b[0m                     \u001b[0;31m# This SparkContext may be an existing one.\u001b[0m\u001b[0;34m\u001b[0m\u001b[0;34m\u001b[0m\u001b[0;34m\u001b[0m\u001b[0m\n\u001b[0;32m--> 269\u001b[0;31m                     \u001b[0msc\u001b[0m \u001b[0;34m=\u001b[0m \u001b[0mSparkContext\u001b[0m\u001b[0;34m.\u001b[0m\u001b[0mgetOrCreate\u001b[0m\u001b[0;34m(\u001b[0m\u001b[0msparkConf\u001b[0m\u001b[0;34m)\u001b[0m\u001b[0;34m\u001b[0m\u001b[0;34m\u001b[0m\u001b[0m\n\u001b[0m\u001b[1;32m    270\u001b[0m                     \u001b[0;31m# Do not update `SparkConf` for existing `SparkContext`, as it's shared\u001b[0m\u001b[0;34m\u001b[0m\u001b[0;34m\u001b[0m\u001b[0;34m\u001b[0m\u001b[0m\n\u001b[1;32m    271\u001b[0m                     \u001b[0;31m# by all sessions.\u001b[0m\u001b[0;34m\u001b[0m\u001b[0;34m\u001b[0m\u001b[0;34m\u001b[0m\u001b[0m\n",
            "\u001b[0;32m/usr/local/lib/python3.8/dist-packages/pyspark/context.py\u001b[0m in \u001b[0;36mgetOrCreate\u001b[0;34m(cls, conf)\u001b[0m\n\u001b[1;32m    481\u001b[0m         \u001b[0;32mwith\u001b[0m \u001b[0mSparkContext\u001b[0m\u001b[0;34m.\u001b[0m\u001b[0m_lock\u001b[0m\u001b[0;34m:\u001b[0m\u001b[0;34m\u001b[0m\u001b[0;34m\u001b[0m\u001b[0m\n\u001b[1;32m    482\u001b[0m             \u001b[0;32mif\u001b[0m \u001b[0mSparkContext\u001b[0m\u001b[0;34m.\u001b[0m\u001b[0m_active_spark_context\u001b[0m \u001b[0;32mis\u001b[0m \u001b[0;32mNone\u001b[0m\u001b[0;34m:\u001b[0m\u001b[0;34m\u001b[0m\u001b[0;34m\u001b[0m\u001b[0m\n\u001b[0;32m--> 483\u001b[0;31m                 \u001b[0mSparkContext\u001b[0m\u001b[0;34m(\u001b[0m\u001b[0mconf\u001b[0m\u001b[0;34m=\u001b[0m\u001b[0mconf\u001b[0m \u001b[0;32mor\u001b[0m \u001b[0mSparkConf\u001b[0m\u001b[0;34m(\u001b[0m\u001b[0;34m)\u001b[0m\u001b[0;34m)\u001b[0m\u001b[0;34m\u001b[0m\u001b[0;34m\u001b[0m\u001b[0m\n\u001b[0m\u001b[1;32m    484\u001b[0m             \u001b[0;32massert\u001b[0m \u001b[0mSparkContext\u001b[0m\u001b[0;34m.\u001b[0m\u001b[0m_active_spark_context\u001b[0m \u001b[0;32mis\u001b[0m \u001b[0;32mnot\u001b[0m \u001b[0;32mNone\u001b[0m\u001b[0;34m\u001b[0m\u001b[0;34m\u001b[0m\u001b[0m\n\u001b[1;32m    485\u001b[0m             \u001b[0;32mreturn\u001b[0m \u001b[0mSparkContext\u001b[0m\u001b[0;34m.\u001b[0m\u001b[0m_active_spark_context\u001b[0m\u001b[0;34m\u001b[0m\u001b[0;34m\u001b[0m\u001b[0m\n",
            "\u001b[0;32m/usr/local/lib/python3.8/dist-packages/pyspark/context.py\u001b[0m in \u001b[0;36m__init__\u001b[0;34m(self, master, appName, sparkHome, pyFiles, environment, batchSize, serializer, conf, gateway, jsc, profiler_cls, udf_profiler_cls)\u001b[0m\n\u001b[1;32m    195\u001b[0m         \u001b[0mSparkContext\u001b[0m\u001b[0;34m.\u001b[0m\u001b[0m_ensure_initialized\u001b[0m\u001b[0;34m(\u001b[0m\u001b[0mself\u001b[0m\u001b[0;34m,\u001b[0m \u001b[0mgateway\u001b[0m\u001b[0;34m=\u001b[0m\u001b[0mgateway\u001b[0m\u001b[0;34m,\u001b[0m \u001b[0mconf\u001b[0m\u001b[0;34m=\u001b[0m\u001b[0mconf\u001b[0m\u001b[0;34m)\u001b[0m\u001b[0;34m\u001b[0m\u001b[0;34m\u001b[0m\u001b[0m\n\u001b[1;32m    196\u001b[0m         \u001b[0;32mtry\u001b[0m\u001b[0;34m:\u001b[0m\u001b[0;34m\u001b[0m\u001b[0;34m\u001b[0m\u001b[0m\n\u001b[0;32m--> 197\u001b[0;31m             self._do_init(\n\u001b[0m\u001b[1;32m    198\u001b[0m                 \u001b[0mmaster\u001b[0m\u001b[0;34m,\u001b[0m\u001b[0;34m\u001b[0m\u001b[0;34m\u001b[0m\u001b[0m\n\u001b[1;32m    199\u001b[0m                 \u001b[0mappName\u001b[0m\u001b[0;34m,\u001b[0m\u001b[0;34m\u001b[0m\u001b[0;34m\u001b[0m\u001b[0m\n",
            "\u001b[0;32m/usr/local/lib/python3.8/dist-packages/pyspark/context.py\u001b[0m in \u001b[0;36m_do_init\u001b[0;34m(self, master, appName, sparkHome, pyFiles, environment, batchSize, serializer, conf, jsc, profiler_cls, udf_profiler_cls)\u001b[0m\n\u001b[1;32m    280\u001b[0m \u001b[0;34m\u001b[0m\u001b[0m\n\u001b[1;32m    281\u001b[0m         \u001b[0;31m# Create the Java SparkContext through Py4J\u001b[0m\u001b[0;34m\u001b[0m\u001b[0;34m\u001b[0m\u001b[0;34m\u001b[0m\u001b[0m\n\u001b[0;32m--> 282\u001b[0;31m         \u001b[0mself\u001b[0m\u001b[0;34m.\u001b[0m\u001b[0m_jsc\u001b[0m \u001b[0;34m=\u001b[0m \u001b[0mjsc\u001b[0m \u001b[0;32mor\u001b[0m \u001b[0mself\u001b[0m\u001b[0;34m.\u001b[0m\u001b[0m_initialize_context\u001b[0m\u001b[0;34m(\u001b[0m\u001b[0mself\u001b[0m\u001b[0;34m.\u001b[0m\u001b[0m_conf\u001b[0m\u001b[0;34m.\u001b[0m\u001b[0m_jconf\u001b[0m\u001b[0;34m)\u001b[0m\u001b[0;34m\u001b[0m\u001b[0;34m\u001b[0m\u001b[0m\n\u001b[0m\u001b[1;32m    283\u001b[0m         \u001b[0;31m# Reset the SparkConf to the one actually used by the SparkContext in JVM.\u001b[0m\u001b[0;34m\u001b[0m\u001b[0;34m\u001b[0m\u001b[0;34m\u001b[0m\u001b[0m\n\u001b[1;32m    284\u001b[0m         \u001b[0mself\u001b[0m\u001b[0;34m.\u001b[0m\u001b[0m_conf\u001b[0m \u001b[0;34m=\u001b[0m \u001b[0mSparkConf\u001b[0m\u001b[0;34m(\u001b[0m\u001b[0m_jconf\u001b[0m\u001b[0;34m=\u001b[0m\u001b[0mself\u001b[0m\u001b[0;34m.\u001b[0m\u001b[0m_jsc\u001b[0m\u001b[0;34m.\u001b[0m\u001b[0msc\u001b[0m\u001b[0;34m(\u001b[0m\u001b[0;34m)\u001b[0m\u001b[0;34m.\u001b[0m\u001b[0mconf\u001b[0m\u001b[0;34m(\u001b[0m\u001b[0;34m)\u001b[0m\u001b[0;34m)\u001b[0m\u001b[0;34m\u001b[0m\u001b[0;34m\u001b[0m\u001b[0m\n",
            "\u001b[0;32m/usr/local/lib/python3.8/dist-packages/pyspark/context.py\u001b[0m in \u001b[0;36m_initialize_context\u001b[0;34m(self, jconf)\u001b[0m\n\u001b[1;32m    400\u001b[0m         \"\"\"\n\u001b[1;32m    401\u001b[0m         \u001b[0;32massert\u001b[0m \u001b[0mself\u001b[0m\u001b[0;34m.\u001b[0m\u001b[0m_jvm\u001b[0m \u001b[0;32mis\u001b[0m \u001b[0;32mnot\u001b[0m \u001b[0;32mNone\u001b[0m\u001b[0;34m\u001b[0m\u001b[0;34m\u001b[0m\u001b[0m\n\u001b[0;32m--> 402\u001b[0;31m         \u001b[0;32mreturn\u001b[0m \u001b[0mself\u001b[0m\u001b[0;34m.\u001b[0m\u001b[0m_jvm\u001b[0m\u001b[0;34m.\u001b[0m\u001b[0mJavaSparkContext\u001b[0m\u001b[0;34m(\u001b[0m\u001b[0mjconf\u001b[0m\u001b[0;34m)\u001b[0m\u001b[0;34m\u001b[0m\u001b[0;34m\u001b[0m\u001b[0m\n\u001b[0m\u001b[1;32m    403\u001b[0m \u001b[0;34m\u001b[0m\u001b[0m\n\u001b[1;32m    404\u001b[0m     \u001b[0;34m@\u001b[0m\u001b[0mclassmethod\u001b[0m\u001b[0;34m\u001b[0m\u001b[0;34m\u001b[0m\u001b[0m\n",
            "\u001b[0;32m/usr/local/lib/python3.8/dist-packages/py4j/java_gateway.py\u001b[0m in \u001b[0;36m__call__\u001b[0;34m(self, *args)\u001b[0m\n\u001b[1;32m   1583\u001b[0m \u001b[0;34m\u001b[0m\u001b[0m\n\u001b[1;32m   1584\u001b[0m         \u001b[0manswer\u001b[0m \u001b[0;34m=\u001b[0m \u001b[0mself\u001b[0m\u001b[0;34m.\u001b[0m\u001b[0m_gateway_client\u001b[0m\u001b[0;34m.\u001b[0m\u001b[0msend_command\u001b[0m\u001b[0;34m(\u001b[0m\u001b[0mcommand\u001b[0m\u001b[0;34m)\u001b[0m\u001b[0;34m\u001b[0m\u001b[0;34m\u001b[0m\u001b[0m\n\u001b[0;32m-> 1585\u001b[0;31m         return_value = get_return_value(\n\u001b[0m\u001b[1;32m   1586\u001b[0m             answer, self._gateway_client, None, self._fqn)\n\u001b[1;32m   1587\u001b[0m \u001b[0;34m\u001b[0m\u001b[0m\n",
            "\u001b[0;32m/usr/local/lib/python3.8/dist-packages/py4j/protocol.py\u001b[0m in \u001b[0;36mget_return_value\u001b[0;34m(answer, gateway_client, target_id, name)\u001b[0m\n\u001b[1;32m    324\u001b[0m             \u001b[0mvalue\u001b[0m \u001b[0;34m=\u001b[0m \u001b[0mOUTPUT_CONVERTER\u001b[0m\u001b[0;34m[\u001b[0m\u001b[0mtype\u001b[0m\u001b[0;34m]\u001b[0m\u001b[0;34m(\u001b[0m\u001b[0manswer\u001b[0m\u001b[0;34m[\u001b[0m\u001b[0;36m2\u001b[0m\u001b[0;34m:\u001b[0m\u001b[0;34m]\u001b[0m\u001b[0;34m,\u001b[0m \u001b[0mgateway_client\u001b[0m\u001b[0;34m)\u001b[0m\u001b[0;34m\u001b[0m\u001b[0;34m\u001b[0m\u001b[0m\n\u001b[1;32m    325\u001b[0m             \u001b[0;32mif\u001b[0m \u001b[0manswer\u001b[0m\u001b[0;34m[\u001b[0m\u001b[0;36m1\u001b[0m\u001b[0;34m]\u001b[0m \u001b[0;34m==\u001b[0m \u001b[0mREFERENCE_TYPE\u001b[0m\u001b[0;34m:\u001b[0m\u001b[0;34m\u001b[0m\u001b[0;34m\u001b[0m\u001b[0m\n\u001b[0;32m--> 326\u001b[0;31m                 raise Py4JJavaError(\n\u001b[0m\u001b[1;32m    327\u001b[0m                     \u001b[0;34m\"An error occurred while calling {0}{1}{2}.\\n\"\u001b[0m\u001b[0;34m.\u001b[0m\u001b[0;34m\u001b[0m\u001b[0;34m\u001b[0m\u001b[0m\n\u001b[1;32m    328\u001b[0m                     format(target_id, \".\", name), value)\n",
            "\u001b[0;31mPy4JJavaError\u001b[0m: An error occurred while calling None.org.apache.spark.api.java.JavaSparkContext.\n: java.lang.IllegalArgumentException: requirement failed: Can only call getServletHandlers on a running MetricsSystem\n\tat scala.Predef$.require(Predef.scala:281)\n\tat org.apache.spark.metrics.MetricsSystem.getServletHandlers(MetricsSystem.scala:89)\n\tat org.apache.spark.SparkContext.<init>(SparkContext.scala:660)\n\tat org.apache.spark.api.java.JavaSparkContext.<init>(JavaSparkContext.scala:58)\n\tat java.base/jdk.internal.reflect.NativeConstructorAccessorImpl.newInstance0(Native Method)\n\tat java.base/jdk.internal.reflect.NativeConstructorAccessorImpl.newInstance(NativeConstructorAccessorImpl.java:62)\n\tat java.base/jdk.internal.reflect.DelegatingConstructorAccessorImpl.newInstance(DelegatingConstructorAccessorImpl.java:45)\n\tat java.base/java.lang.reflect.Constructor.newInstance(Constructor.java:490)\n\tat py4j.reflection.MethodInvoker.invoke(MethodInvoker.java:247)\n\tat py4j.reflection.ReflectionEngine.invoke(ReflectionEngine.java:357)\n\tat py4j.Gateway.invoke(Gateway.java:238)\n\tat py4j.commands.ConstructorCommand.invokeConstructor(ConstructorCommand.java:80)\n\tat py4j.commands.ConstructorCommand.execute(ConstructorCommand.java:69)\n\tat py4j.ClientServerConnection.waitForCommands(ClientServerConnection.java:182)\n\tat py4j.ClientServerConnection.run(ClientServerConnection.java:106)\n\tat java.base/java.lang.Thread.run(Thread.java:829)\n"
          ]
        }
      ]
    },
    {
      "cell_type": "code",
      "source": [
        "df=spark.read.options(delimiter='::').csv(\"/content/sample_data/movies.csv\")\n",
        "movies=df.withColumnRenamed('_c0','movieid').withColumnRenamed('_c1','title').withColumnRenamed('_c2','genre')\n",
        "movies.show(10,False)\n",
        "movies.createOrReplaceTempView('movies')"
      ],
      "metadata": {
        "colab": {
          "base_uri": "https://localhost:8080/"
        },
        "id": "MWl4tFHksMXf",
        "outputId": "3d530562-1803-4898-d64c-033dcf6f51c8"
      },
      "execution_count": 25,
      "outputs": [
        {
          "output_type": "stream",
          "name": "stdout",
          "text": [
            "+-------+----------------------------------+----------------------------+\n",
            "|movieid|title                             |genre                       |\n",
            "+-------+----------------------------------+----------------------------+\n",
            "|1      |Toy Story (1995)                  |Animation|Children's|Comedy |\n",
            "|2      |Jumanji (1995)                    |Adventure|Children's|Fantasy|\n",
            "|3      |Grumpier Old Men (1995)           |Comedy|Romance              |\n",
            "|4      |Waiting to Exhale (1995)          |Comedy|Drama                |\n",
            "|5      |Father of the Bride Part II (1995)|Comedy                      |\n",
            "|6      |Heat (1995)                       |Action|Crime|Thriller       |\n",
            "|7      |Sabrina (1995)                    |Comedy|Romance              |\n",
            "|8      |Tom and Huck (1995)               |Adventure|Children's        |\n",
            "|9      |Sudden Death (1995)               |Action                      |\n",
            "|10     |GoldenEye (1995)                  |Action|Adventure|Thriller   |\n",
            "+-------+----------------------------------+----------------------------+\n",
            "only showing top 10 rows\n",
            "\n"
          ]
        }
      ]
    },
    {
      "cell_type": "code",
      "source": [
        "df=spark.read.options(delimiter='::').csv(\"/content/sample_data/users.csv\")\n",
        "users=df.withColumnRenamed('_c0','userid').withColumnRenamed('_c1','gender').withColumnRenamed('_c2','age').withColumnRenamed('_c3','occupation').withColumnRenamed('_c2','zip-code')\n",
        "users.show(10,False)"
      ],
      "metadata": {
        "colab": {
          "base_uri": "https://localhost:8080/"
        },
        "id": "krCqxlExwCQ_",
        "outputId": "cc67cb2f-3646-4167-fe67-f4632e071e9e"
      },
      "execution_count": 26,
      "outputs": [
        {
          "output_type": "stream",
          "name": "stdout",
          "text": [
            "+------+------+---+----------+-----+\n",
            "|userid|gender|age|occupation|_c4  |\n",
            "+------+------+---+----------+-----+\n",
            "|1     |F     |1  |10        |48067|\n",
            "|2     |M     |56 |16        |70072|\n",
            "|3     |M     |25 |15        |55117|\n",
            "|4     |M     |45 |7         |02460|\n",
            "|5     |M     |25 |20        |55455|\n",
            "|6     |F     |50 |9         |55117|\n",
            "|7     |M     |35 |1         |06810|\n",
            "|8     |M     |25 |12        |11413|\n",
            "|9     |M     |25 |17        |61614|\n",
            "|10    |F     |35 |1         |95370|\n",
            "+------+------+---+----------+-----+\n",
            "only showing top 10 rows\n",
            "\n"
          ]
        }
      ]
    },
    {
      "cell_type": "code",
      "source": [
        "df=spark.read.options(delimiter='::').csv(\"/content/sample_data/ratings.csv\")\n",
        "ratings=df.withColumnRenamed('_c0','userid').withColumnRenamed('_c1','movieid1').withColumnRenamed('_c2','rating').withColumnRenamed('_c3','timestamp')\n",
        "ratings.show(10,False)\n"
      ],
      "metadata": {
        "colab": {
          "base_uri": "https://localhost:8080/"
        },
        "id": "fKWlysZnsMUm",
        "outputId": "94c7d7e4-5e45-4d82-cf15-51f76d56c6f6"
      },
      "execution_count": 27,
      "outputs": [
        {
          "output_type": "stream",
          "name": "stdout",
          "text": [
            "+------+--------+------+---------+\n",
            "|userid|movieid1|rating|timestamp|\n",
            "+------+--------+------+---------+\n",
            "|1     |1193    |5     |978300760|\n",
            "|1     |661     |3     |978302109|\n",
            "|1     |914     |3     |978301968|\n",
            "|1     |3408    |4     |978300275|\n",
            "|1     |2355    |5     |978824291|\n",
            "|1     |1197    |3     |978302268|\n",
            "|1     |1287    |5     |978302039|\n",
            "|1     |2804    |5     |978300719|\n",
            "|1     |594     |4     |978302268|\n",
            "|1     |919     |4     |978301368|\n",
            "+------+--------+------+---------+\n",
            "only showing top 10 rows\n",
            "\n"
          ]
        }
      ]
    },
    {
      "cell_type": "code",
      "source": [
        "new=ratings.join(movies,ratings.movieid1 == movies.movieid,\"inner\")\n",
        "top_viewed=new.groupby(\"movieid\",'title').agg(count(\"*\").alias(\"top_viewed_movies\")).sort(desc(\"top_viewed_movies\")).show(10,False)\n"
      ],
      "metadata": {
        "id": "Y50ElxARy3ri",
        "colab": {
          "base_uri": "https://localhost:8080/"
        },
        "outputId": "d65d43d2-045e-4b1e-b498-d9f0e05419bf"
      },
      "execution_count": 28,
      "outputs": [
        {
          "output_type": "stream",
          "name": "stdout",
          "text": [
            "+-------+-----------------------------------------------------+-----------------+\n",
            "|movieid|title                                                |top_viewed_movies|\n",
            "+-------+-----------------------------------------------------+-----------------+\n",
            "|2858   |American Beauty (1999)                               |3428             |\n",
            "|260    |Star Wars: Episode IV - A New Hope (1977)            |2991             |\n",
            "|1196   |Star Wars: Episode V - The Empire Strikes Back (1980)|2990             |\n",
            "|1210   |Star Wars: Episode VI - Return of the Jedi (1983)    |2883             |\n",
            "|480    |Jurassic Park (1993)                                 |2672             |\n",
            "|2028   |Saving Private Ryan (1998)                           |2653             |\n",
            "|589    |Terminator 2: Judgment Day (1991)                    |2649             |\n",
            "|2571   |Matrix, The (1999)                                   |2590             |\n",
            "|1270   |Back to the Future (1985)                            |2583             |\n",
            "|593    |Silence of the Lambs, The (1991)                     |2578             |\n",
            "+-------+-----------------------------------------------------+-----------------+\n",
            "only showing top 10 rows\n",
            "\n"
          ]
        }
      ]
    },
    {
      "cell_type": "code",
      "source": [
        "movies_cast=movies.select(col('movieid'),col('title'),explode(split(col(\"genre\"),'\\\\|')).alias(\"Genres\"))\n",
        "genre_count=movies_cast.groupby('Genres').agg(count('*').alias(\"genre_count\")).show(100,False)"
      ],
      "metadata": {
        "id": "3wX_beAZ4U9d"
      },
      "execution_count": null,
      "outputs": []
    },
    {
      "cell_type": "code",
      "source": [
        "tt=movies.filter(col('title').rlike(\"[0-9a-zA-Z]*$\")).count()\n",
        "print(tt)\n",
        "\n"
      ],
      "metadata": {
        "colab": {
          "base_uri": "https://localhost:8080/"
        },
        "id": "VHkQ_YwG8A0P",
        "outputId": "627c7a87-ddc3-417e-baa2-5ae305a9f753"
      },
      "execution_count": null,
      "outputs": [
        {
          "output_type": "stream",
          "name": "stdout",
          "text": [
            "3883\n"
          ]
        }
      ]
    },
    {
      "cell_type": "code",
      "source": [
        "extract_year= movies.withColumn(\"year\", regexp_extract(col(\"title\"), r\"\\(([^()]+)\\)$\", 1));\n",
        "latest_release=extract_year.sort(col(\"year\").desc())\n",
        "latest_release.show(100,True)"
      ],
      "metadata": {
        "id": "6v17FKjjBF8O"
      },
      "execution_count": null,
      "outputs": []
    },
    {
      "cell_type": "code",
      "source": [
        "movies.createOrReplaceTempView(\"movies\")\n",
        "ratings.createOrReplaceTempView(\"ratings\")\n",
        "users.createOrReplaceTempView(\"users\")\n",
        "extract_year.createOrReplaceTempView(\"extract_year\")\n",
        "spark.sql(\"select * from movies m join ratings r on m.movieid=r.movieid1 \").show()"
      ],
      "metadata": {
        "colab": {
          "base_uri": "https://localhost:8080/"
        },
        "id": "3bF319Mq5koi",
        "outputId": "1399082c-fcdb-46ef-a477-1c596528f9af"
      },
      "execution_count": 31,
      "outputs": [
        {
          "output_type": "stream",
          "name": "stdout",
          "text": [
            "+-------+--------------------+--------------------+------+--------+------+---------+\n",
            "|movieid|               title|               genre|userid|movieid1|rating|timestamp|\n",
            "+-------+--------------------+--------------------+------+--------+------+---------+\n",
            "|   1193|One Flew Over the...|               Drama|     1|    1193|     5|978300760|\n",
            "|    661|James and the Gia...|Animation|Childre...|     1|     661|     3|978302109|\n",
            "|    914| My Fair Lady (1964)|     Musical|Romance|     1|     914|     3|978301968|\n",
            "|   3408|Erin Brockovich (...|               Drama|     1|    3408|     4|978300275|\n",
            "|   2355|Bug's Life, A (1998)|Animation|Childre...|     1|    2355|     5|978824291|\n",
            "|   1197|Princess Bride, T...|Action|Adventure|...|     1|    1197|     3|978302268|\n",
            "|   1287|      Ben-Hur (1959)|Action|Adventure|...|     1|    1287|     5|978302039|\n",
            "|   2804|Christmas Story, ...|        Comedy|Drama|     1|    2804|     5|978300719|\n",
            "|    594|Snow White and th...|Animation|Childre...|     1|     594|     4|978302268|\n",
            "|    919|Wizard of Oz, The...|Adventure|Childre...|     1|     919|     4|978301368|\n",
            "|    595|Beauty and the Be...|Animation|Childre...|     1|     595|     5|978824268|\n",
            "|    938|         Gigi (1958)|             Musical|     1|     938|     4|978301752|\n",
            "|   2398|Miracle on 34th S...|               Drama|     1|    2398|     4|978302281|\n",
            "|   2918|Ferris Bueller's ...|              Comedy|     1|    2918|     4|978302124|\n",
            "|   1035|Sound of Music, T...|             Musical|     1|    1035|     5|978301753|\n",
            "|   2791|    Airplane! (1980)|              Comedy|     1|    2791|     4|978302188|\n",
            "|   2687|       Tarzan (1999)|Animation|Children's|     1|    2687|     3|978824268|\n",
            "|   2018|        Bambi (1942)|Animation|Children's|     1|    2018|     4|978301777|\n",
            "|   3105|   Awakenings (1990)|               Drama|     1|    3105|     5|978301713|\n",
            "|   2797|          Big (1988)|      Comedy|Fantasy|     1|    2797|     4|978302039|\n",
            "+-------+--------------------+--------------------+------+--------+------+---------+\n",
            "only showing top 20 rows\n",
            "\n"
          ]
        }
      ]
    },
    {
      "cell_type": "code",
      "source": [
        "spark.sql(\"select year,count(year) from extract_year group by year \").show()"
      ],
      "metadata": {
        "colab": {
          "base_uri": "https://localhost:8080/"
        },
        "id": "K1FLi3LJV_BT",
        "outputId": "1aec746e-fbe9-4654-f10e-798dc7d1f4df"
      },
      "execution_count": 32,
      "outputs": [
        {
          "output_type": "stream",
          "name": "stdout",
          "text": [
            "+----+-----------+\n",
            "|year|count(year)|\n",
            "+----+-----------+\n",
            "|1953|         14|\n",
            "|1957|         20|\n",
            "|1987|         71|\n",
            "|1956|         19|\n",
            "|1936|          8|\n",
            "|1958|         22|\n",
            "|1943|         10|\n",
            "|1972|         22|\n",
            "|1931|          7|\n",
            "|1988|         69|\n",
            "|1938|          6|\n",
            "|1926|          8|\n",
            "|1932|          7|\n",
            "|1977|         22|\n",
            "|1971|         26|\n",
            "|1984|         60|\n",
            "|1982|         50|\n",
            "|1941|         11|\n",
            "|1919|          3|\n",
            "|2000|        156|\n",
            "+----+-----------+\n",
            "only showing top 20 rows\n",
            "\n"
          ]
        }
      ]
    },
    {
      "cell_type": "code",
      "source": [
        "spark.sql(\"select rating,count(movieid1) as movies_count_by_rating from ratings group by rating\").show()"
      ],
      "metadata": {
        "colab": {
          "base_uri": "https://localhost:8080/"
        },
        "id": "_v1p6hv4cEmF",
        "outputId": "d2a3decd-f25c-455a-92fd-53b335388bd6"
      },
      "execution_count": 36,
      "outputs": [
        {
          "output_type": "stream",
          "name": "stdout",
          "text": [
            "+------+----------------------+\n",
            "|rating|movies_count_by_rating|\n",
            "+------+----------------------+\n",
            "|     3|                261197|\n",
            "|     5|                226310|\n",
            "|     1|                 56174|\n",
            "|     4|                348971|\n",
            "|     2|                107557|\n",
            "+------+----------------------+\n",
            "\n"
          ]
        }
      ]
    },
    {
      "cell_type": "code",
      "source": [
        "spark.sql(\"select movieid1,avg(rating) from ratings group by movieid1\").show()"
      ],
      "metadata": {
        "colab": {
          "base_uri": "https://localhost:8080/"
        },
        "id": "z4GI4ldAcjws",
        "outputId": "e46e1b9c-96dd-48f3-a303-0f321cbb62e0"
      },
      "execution_count": 38,
      "outputs": [
        {
          "output_type": "stream",
          "name": "stdout",
          "text": [
            "+--------+------------------+\n",
            "|movieid1|       avg(rating)|\n",
            "+--------+------------------+\n",
            "|    2294| 3.483720930232558|\n",
            "|    1090| 4.090113735783027|\n",
            "|     296| 4.278212805158913|\n",
            "|    2136|3.1486486486486487|\n",
            "|    3210|3.8374717832957113|\n",
            "|     467|3.2037037037037037|\n",
            "|    2088|  2.59447983014862|\n",
            "|     691|3.0991735537190084|\n",
            "|     829|2.2900763358778624|\n",
            "|    2162|2.4124293785310735|\n",
            "|    3414|              3.26|\n",
            "|    2069|3.7857142857142856|\n",
            "|    3606| 3.940828402366864|\n",
            "|    2904| 3.764705882352941|\n",
            "|    1572| 3.730769230769231|\n",
            "|    1436| 2.888888888888889|\n",
            "|    1372|3.4095904095904097|\n",
            "|    1394|  4.02092050209205|\n",
            "|     800| 4.082539682539682|\n",
            "|    3826|2.5382716049382714|\n",
            "+--------+------------------+\n",
            "only showing top 20 rows\n",
            "\n"
          ]
        }
      ]
    },
    {
      "cell_type": "code",
      "source": [
        "spark.sql(\"select movieid1,count(userid) from ratings  group by movieid1 \").show()"
      ],
      "metadata": {
        "colab": {
          "base_uri": "https://localhost:8080/"
        },
        "id": "9b1UV91ndHPy",
        "outputId": "7050ae95-f850-4e05-fbe1-d84c7b5adbf4"
      },
      "execution_count": 40,
      "outputs": [
        {
          "output_type": "stream",
          "name": "stdout",
          "text": [
            "+--------+-------------+\n",
            "|movieid1|count(userid)|\n",
            "+--------+-------------+\n",
            "|    2294|          645|\n",
            "|    1090|         1143|\n",
            "|     296|         2171|\n",
            "|    2136|          222|\n",
            "|    3210|          886|\n",
            "|     467|           54|\n",
            "|    2088|          471|\n",
            "|     691|          121|\n",
            "|     829|          131|\n",
            "|    2162|          177|\n",
            "|    3414|           50|\n",
            "|    2069|          140|\n",
            "|    3606|          169|\n",
            "|    2904|           17|\n",
            "|    1572|           26|\n",
            "|    1436|            9|\n",
            "|    1372|         1001|\n",
            "|    1394|         1434|\n",
            "|     800|          630|\n",
            "|    3826|          405|\n",
            "+--------+-------------+\n",
            "only showing top 20 rows\n",
            "\n"
          ]
        }
      ]
    }
  ]
}